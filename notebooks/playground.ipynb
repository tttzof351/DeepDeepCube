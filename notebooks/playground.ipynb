{
 "cells": [
  {
   "cell_type": "code",
   "execution_count": 1,
   "metadata": {},
   "outputs": [],
   "source": [
    "import pandas as pd\n",
    "import matplotlib.pyplot as plt\n",
    "import numpy as np"
   ]
  },
  {
   "cell_type": "code",
   "execution_count": 162,
   "metadata": {},
   "outputs": [
    {
     "data": {
      "text/plain": [
       "1001"
      ]
     },
     "execution_count": 162,
     "metadata": {},
     "output_type": "execute_result"
    }
   ],
   "source": [
    "df = pd.read_pickle(\"../assets/reports/cpp_reports.pkl\")\n",
    "len(df)"
   ]
  },
  {
   "cell_type": "code",
   "execution_count": 163,
   "metadata": {},
   "outputs": [
    {
     "data": {
      "text/plain": [
       "i                                                                200\n",
       "state              [20, 23, 26, 3, 4, 5, 6, 7, 8, 9, 10, 11, 12, ...\n",
       "target_distance                                                    5\n",
       "solution                                                     [-1, 4]\n",
       "h_values                                               [1.241, 0.14]\n",
       "visit_nodes                                                        0\n",
       "duration_sec                                                     0.0\n",
       "Name: 200, dtype: object"
      ]
     },
     "execution_count": 163,
     "metadata": {},
     "output_type": "execute_result"
    }
   ],
   "source": [
    "df.iloc[200]"
   ]
  },
  {
   "cell_type": "code",
   "execution_count": 164,
   "metadata": {},
   "outputs": [
    {
     "data": {
      "text/plain": [
       "[26018,\n",
       " 138425,\n",
       " 237,\n",
       " 112,\n",
       " 227610,\n",
       " 374579,\n",
       " 326888,\n",
       " 57932,\n",
       " 100654,\n",
       " 51618,\n",
       " 8592,\n",
       " 211,\n",
       " 9285989,\n",
       " 967538,\n",
       " 93287,\n",
       " 98153,\n",
       " 10078,\n",
       " 58065,\n",
       " 142274,\n",
       " 1924255,\n",
       " 144403,\n",
       " 22175,\n",
       " 16966,\n",
       " 60702,\n",
       " 5665176,\n",
       " 403785,\n",
       " 2158,\n",
       " 3502,\n",
       " 157,\n",
       " 62910,\n",
       " 1958349,\n",
       " 685651,\n",
       " 315268,\n",
       " 129650,\n",
       " 376511,\n",
       " 19996,\n",
       " 312733,\n",
       " 1041063,\n",
       " 49709,\n",
       " 159609,\n",
       " 149356,\n",
       " 4778323,\n",
       " 168713,\n",
       " 488221,\n",
       " 6968,\n",
       " 1156967,\n",
       " 57621,\n",
       " 3032936,\n",
       " 2484089,\n",
       " 289651,\n",
       " 104935,\n",
       " 11628,\n",
       " 10199,\n",
       " 214042,\n",
       " 595100,\n",
       " 316461,\n",
       " 54089,\n",
       " 48835,\n",
       " 1052986,\n",
       " 10104,\n",
       " 275102,\n",
       " 313540,\n",
       " 36189,\n",
       " 3493,\n",
       " 519297,\n",
       " 25794,\n",
       " 102564,\n",
       " 460577,\n",
       " 421624,\n",
       " 946076,\n",
       " 1289357,\n",
       " 258761,\n",
       " 294937,\n",
       " 27880,\n",
       " 89214,\n",
       " 92666,\n",
       " 209623,\n",
       " 40341,\n",
       " 1571,\n",
       " 24927,\n",
       " 35390]"
      ]
     },
     "execution_count": 164,
     "metadata": {},
     "output_type": "execute_result"
    }
   ],
   "source": [
    "[vc for vc in df[\"visit_nodes\"][920:]]"
   ]
  },
  {
   "cell_type": "code",
   "execution_count": 161,
   "metadata": {},
   "outputs": [
    {
     "data": {
      "text/html": [
       "<div>\n",
       "<style scoped>\n",
       "    .dataframe tbody tr th:only-of-type {\n",
       "        vertical-align: middle;\n",
       "    }\n",
       "\n",
       "    .dataframe tbody tr th {\n",
       "        vertical-align: top;\n",
       "    }\n",
       "\n",
       "    .dataframe thead th {\n",
       "        text-align: right;\n",
       "    }\n",
       "</style>\n",
       "<table border=\"1\" class=\"dataframe\">\n",
       "  <thead>\n",
       "    <tr style=\"text-align: right;\">\n",
       "      <th></th>\n",
       "      <th>i</th>\n",
       "      <th>state</th>\n",
       "      <th>target_distance</th>\n",
       "      <th>solution</th>\n",
       "      <th>h_values</th>\n",
       "      <th>visit_nodes</th>\n",
       "      <th>duration_sec</th>\n",
       "    </tr>\n",
       "  </thead>\n",
       "  <tbody>\n",
       "    <tr>\n",
       "      <th>0</th>\n",
       "      <td>0</td>\n",
       "      <td>[0, 1, 2, 3, 4, 5, 6, 7, 8, 9, 10, 11, 12, 13,...</td>\n",
       "      <td>0</td>\n",
       "      <td>[]</td>\n",
       "      <td>[]</td>\n",
       "      <td>0</td>\n",
       "      <td>0.000</td>\n",
       "    </tr>\n",
       "    <tr>\n",
       "      <th>1</th>\n",
       "      <td>1</td>\n",
       "      <td>[0, 1, 2, 3, 4, 5, 6, 7, 8, 9, 10, 11, 12, 13,...</td>\n",
       "      <td>0</td>\n",
       "      <td>[]</td>\n",
       "      <td>[]</td>\n",
       "      <td>0</td>\n",
       "      <td>0.000</td>\n",
       "    </tr>\n",
       "    <tr>\n",
       "      <th>2</th>\n",
       "      <td>2</td>\n",
       "      <td>[0, 1, 2, 3, 4, 5, 6, 7, 8, 9, 10, 11, 12, 13,...</td>\n",
       "      <td>0</td>\n",
       "      <td>[]</td>\n",
       "      <td>[]</td>\n",
       "      <td>0</td>\n",
       "      <td>0.000</td>\n",
       "    </tr>\n",
       "    <tr>\n",
       "      <th>3</th>\n",
       "      <td>3</td>\n",
       "      <td>[0, 1, 2, 3, 4, 5, 6, 7, 8, 9, 10, 11, 12, 13,...</td>\n",
       "      <td>0</td>\n",
       "      <td>[]</td>\n",
       "      <td>[]</td>\n",
       "      <td>0</td>\n",
       "      <td>0.000</td>\n",
       "    </tr>\n",
       "    <tr>\n",
       "      <th>4</th>\n",
       "      <td>4</td>\n",
       "      <td>[0, 1, 2, 3, 4, 5, 6, 7, 8, 9, 10, 11, 12, 13,...</td>\n",
       "      <td>0</td>\n",
       "      <td>[]</td>\n",
       "      <td>[]</td>\n",
       "      <td>0</td>\n",
       "      <td>0.000</td>\n",
       "    </tr>\n",
       "    <tr>\n",
       "      <th>...</th>\n",
       "      <td>...</td>\n",
       "      <td>...</td>\n",
       "      <td>...</td>\n",
       "      <td>...</td>\n",
       "      <td>...</td>\n",
       "      <td>...</td>\n",
       "      <td>...</td>\n",
       "    </tr>\n",
       "    <tr>\n",
       "      <th>991</th>\n",
       "      <td>990</td>\n",
       "      <td>[9, 48, 2, 46, 49, 5, 26, 25, 15, 33, 50, 44, ...</td>\n",
       "      <td>29</td>\n",
       "      <td>[-1, 9, 12, 1, 7, 16, 0, 5, 17, 7, 2, 4, 12, 2...</td>\n",
       "      <td>[19.029, 19.107, 19.585, 18.324, 16.417, 14.88...</td>\n",
       "      <td>258761</td>\n",
       "      <td>76.764</td>\n",
       "    </tr>\n",
       "    <tr>\n",
       "      <th>992</th>\n",
       "      <td>991</td>\n",
       "      <td>[17, 52, 51, 1, 49, 7, 26, 32, 8, 33, 39, 11, ...</td>\n",
       "      <td>29</td>\n",
       "      <td>[-1, 1, 12, 4, 17, 6, 17, 7, 17, 17, 8, 4, 15,...</td>\n",
       "      <td>[22.071, 21.151, 21.038, 18.729, 18.29, 17.533...</td>\n",
       "      <td>294937</td>\n",
       "      <td>88.055</td>\n",
       "    </tr>\n",
       "    <tr>\n",
       "      <th>993</th>\n",
       "      <td>992</td>\n",
       "      <td>[44, 21, 11, 7, 40, 25, 38, 5, 51, 6, 19, 42, ...</td>\n",
       "      <td>29</td>\n",
       "      <td>[-1, 16, 7, 1, 11, 14, 10, 1, 11, 3, 3, 17, 10...</td>\n",
       "      <td>[19.152, 19.109, 17.509, 15.984, 16.44, 14.829...</td>\n",
       "      <td>27880</td>\n",
       "      <td>7.135</td>\n",
       "    </tr>\n",
       "    <tr>\n",
       "      <th>994</th>\n",
       "      <td>993</td>\n",
       "      <td>[11, 19, 53, 3, 13, 21, 17, 32, 2, 24, 39, 20,...</td>\n",
       "      <td>29</td>\n",
       "      <td>[-1, 7, 2, 15, 10, 15, 17, 11, 14, 0, 10, 3, 9...</td>\n",
       "      <td>[23.553, 22.6, 21.236, 19.38, 19.103, 17.112, ...</td>\n",
       "      <td>89214</td>\n",
       "      <td>26.856</td>\n",
       "    </tr>\n",
       "    <tr>\n",
       "      <th>995</th>\n",
       "      <td>994</td>\n",
       "      <td>[33, 50, 29, 32, 40, 46, 38, 30, 2, 6, 23, 20,...</td>\n",
       "      <td>29</td>\n",
       "      <td>[-1, 8, 7, 14, 4, 13, 4, 7, 15, 10, 8, 0, 16, ...</td>\n",
       "      <td>[20.251, 19.388, 19.571, 19.871, 18.194, 17.21...</td>\n",
       "      <td>92666</td>\n",
       "      <td>27.677</td>\n",
       "    </tr>\n",
       "  </tbody>\n",
       "</table>\n",
       "<p>996 rows × 7 columns</p>\n",
       "</div>"
      ],
      "text/plain": [
       "       i                                              state  target_distance  \\\n",
       "0      0  [0, 1, 2, 3, 4, 5, 6, 7, 8, 9, 10, 11, 12, 13,...                0   \n",
       "1      1  [0, 1, 2, 3, 4, 5, 6, 7, 8, 9, 10, 11, 12, 13,...                0   \n",
       "2      2  [0, 1, 2, 3, 4, 5, 6, 7, 8, 9, 10, 11, 12, 13,...                0   \n",
       "3      3  [0, 1, 2, 3, 4, 5, 6, 7, 8, 9, 10, 11, 12, 13,...                0   \n",
       "4      4  [0, 1, 2, 3, 4, 5, 6, 7, 8, 9, 10, 11, 12, 13,...                0   \n",
       "..   ...                                                ...              ...   \n",
       "991  990  [9, 48, 2, 46, 49, 5, 26, 25, 15, 33, 50, 44, ...               29   \n",
       "992  991  [17, 52, 51, 1, 49, 7, 26, 32, 8, 33, 39, 11, ...               29   \n",
       "993  992  [44, 21, 11, 7, 40, 25, 38, 5, 51, 6, 19, 42, ...               29   \n",
       "994  993  [11, 19, 53, 3, 13, 21, 17, 32, 2, 24, 39, 20,...               29   \n",
       "995  994  [33, 50, 29, 32, 40, 46, 38, 30, 2, 6, 23, 20,...               29   \n",
       "\n",
       "                                              solution  \\\n",
       "0                                                   []   \n",
       "1                                                   []   \n",
       "2                                                   []   \n",
       "3                                                   []   \n",
       "4                                                   []   \n",
       "..                                                 ...   \n",
       "991  [-1, 9, 12, 1, 7, 16, 0, 5, 17, 7, 2, 4, 12, 2...   \n",
       "992  [-1, 1, 12, 4, 17, 6, 17, 7, 17, 17, 8, 4, 15,...   \n",
       "993  [-1, 16, 7, 1, 11, 14, 10, 1, 11, 3, 3, 17, 10...   \n",
       "994  [-1, 7, 2, 15, 10, 15, 17, 11, 14, 0, 10, 3, 9...   \n",
       "995  [-1, 8, 7, 14, 4, 13, 4, 7, 15, 10, 8, 0, 16, ...   \n",
       "\n",
       "                                              h_values  visit_nodes  \\\n",
       "0                                                   []            0   \n",
       "1                                                   []            0   \n",
       "2                                                   []            0   \n",
       "3                                                   []            0   \n",
       "4                                                   []            0   \n",
       "..                                                 ...          ...   \n",
       "991  [19.029, 19.107, 19.585, 18.324, 16.417, 14.88...       258761   \n",
       "992  [22.071, 21.151, 21.038, 18.729, 18.29, 17.533...       294937   \n",
       "993  [19.152, 19.109, 17.509, 15.984, 16.44, 14.829...        27880   \n",
       "994  [23.553, 22.6, 21.236, 19.38, 19.103, 17.112, ...        89214   \n",
       "995  [20.251, 19.388, 19.571, 19.871, 18.194, 17.21...        92666   \n",
       "\n",
       "     duration_sec  \n",
       "0           0.000  \n",
       "1           0.000  \n",
       "2           0.000  \n",
       "3           0.000  \n",
       "4           0.000  \n",
       "..            ...  \n",
       "991        76.764  \n",
       "992        88.055  \n",
       "993         7.135  \n",
       "994        26.856  \n",
       "995        27.677  \n",
       "\n",
       "[996 rows x 7 columns]"
      ]
     },
     "execution_count": 161,
     "metadata": {},
     "output_type": "execute_result"
    }
   ],
   "source": [
    "df"
   ]
  },
  {
   "cell_type": "code",
   "execution_count": 81,
   "metadata": {},
   "outputs": [
    {
     "data": {
      "text/plain": [
       "[(22.622, 773509, 24, 27),\n",
       " (24.164, 105283, 24, 27),\n",
       " (24.723, 21215, 24, 27),\n",
       " (23.289, 76629, 22, 27),\n",
       " (23.774, 22048, 22, 27),\n",
       " (20.932, 1417774, 24, 27),\n",
       " (18.524, 31361, 20, 27),\n",
       " (22.752, 8164, 22, 27),\n",
       " (18.111, 546952, 22, 27),\n",
       " (21.824, 178784, 22, 27),\n",
       " (25.87, 35789, 24, 27),\n",
       " (21.096, 315860, 22, 27),\n",
       " (20.746, 639105, 20, 27),\n",
       " (21.9, 43847, 22, 27),\n",
       " (22.155, 152138, 22, 27),\n",
       " (23.769, 158104, 22, 27),\n",
       " (26.784, 268159, 24, 27),\n",
       " (24.784, 239359, 24, 27),\n",
       " (16.61, 17700, 18, 27),\n",
       " (24.159, 24943, 22, 27),\n",
       " (22.395, 26018, 22, 27),\n",
       " (23.851, 138425, 24, 27),\n",
       " (16.754, 237, 15, 28),\n",
       " (16.765, 112, 15, 28),\n",
       " (25.067, 227610, 23, 28),\n",
       " (23.171, 374579, 23, 28),\n",
       " (21.366, 326888, 23, 28),\n",
       " (25.387, 57932, 23, 28),\n",
       " (24.851, 100654, 23, 28),\n",
       " (20.966, 51618, 21, 28),\n",
       " (19.861, 8592, 17, 28),\n",
       " (21.419, 211, 17, 28),\n",
       " (23.927, 9285989, 23, 28),\n",
       " (21.997, 967538, 23, 28),\n",
       " (23.072, 93287, 23, 28),\n",
       " (19.58, 98153, 23, 28),\n",
       " (17.706, 10078, 19, 28),\n",
       " (24.119, 58065, 21, 28),\n",
       " (22.402, 142274, 23, 28),\n",
       " (23.98, 1924255, 23, 28),\n",
       " (20.37, 144403, 21, 28),\n",
       " (23.389, 22175, 23, 28),\n",
       " (23.594, 16966, 21, 28),\n",
       " (20.21, 60702, 21, 28),\n",
       " (21.114, 5665176, 23, 28),\n",
       " (21.795, 403785, 23, 28),\n",
       " (18.958, 2158, 17, 28),\n",
       " (21.371, 3502, 21, 28),\n",
       " (20.075, 157, 17, 28),\n",
       " (23.321, 62910, 23, 28),\n",
       " (25.049, 1958349, 23, 28),\n",
       " (24.168, 685651, 23, 28),\n",
       " (24.256, 315268, 23, 28),\n",
       " (18.738, 129650, 21, 28),\n",
       " (22.121, 376511, 23, 28),\n",
       " (22.651, 19996, 21, 28),\n",
       " (22.11, 312733, 22, 29),\n",
       " (20.966, 1041063, 24, 29),\n",
       " (19.427, 49709, 22, 29),\n",
       " (20.601, 159609, 22, 29),\n",
       " (25.492, 149356, 24, 29)]"
      ]
     },
     "execution_count": 81,
     "metadata": {},
     "output_type": "execute_result"
    }
   ],
   "source": [
    "[(r[\"h_values\"][0], r[\"visit_nodes\"], len(r[\"solution\"]), r[\"target_distance\"] ) for r in df.to_dict(\"records\")[900:]]"
   ]
  },
  {
   "cell_type": "code",
   "execution_count": null,
   "metadata": {},
   "outputs": [],
   "source": [
    "[20,23,26,3,4,5,6,7,8,9,10,11,12,13,14,15,16,17,18,19,53,21,22,52,24,25,51,33,30,27,34,31,28,35,32,29,2,37,38,1,40,41,0,43,44,45,46,47,48,49,50,36,39,42]"
   ]
  },
  {
   "cell_type": "code",
   "execution_count": 4,
   "metadata": {},
   "outputs": [],
   "source": [
    "bad_is = []\n",
    "for i, s in enumerate(df[\"solution\"].tolist()):\n",
    "    if (np.array(s) > 18).any():\n",
    "        bad_is.append(i)\n",
    "        # print(\"Bad:\", i, s)"
   ]
  },
  {
   "cell_type": "code",
   "execution_count": 5,
   "metadata": {},
   "outputs": [
    {
     "data": {
      "text/plain": [
       "31"
      ]
     },
     "execution_count": 5,
     "metadata": {},
     "output_type": "execute_result"
    }
   ],
   "source": [
    "len(bad_is)"
   ]
  },
  {
   "cell_type": "code",
   "execution_count": 6,
   "metadata": {},
   "outputs": [
    {
     "data": {
      "text/plain": [
       "array([208, 222, 259, 289, 292, 296, 298, 301, 342, 346, 354, 358, 380,\n",
       "       387, 390, 410, 413, 447, 449, 479, 482, 506, 508, 557, 574, 579,\n",
       "       600, 608, 609, 634, 654])"
      ]
     },
     "execution_count": 6,
     "metadata": {},
     "output_type": "execute_result"
    }
   ],
   "source": [
    "np.array(bad_is)"
   ]
  },
  {
   "cell_type": "code",
   "execution_count": 7,
   "metadata": {},
   "outputs": [
    {
     "data": {
      "text/plain": [
       "{'i': 609,\n",
       " 'state': array([11, 14,  2, 19, 40, 48, 15, 16,  6, 45, 46, 38, 32, 31, 52, 51, 10,\n",
       "        53,  9, 43, 20, 34, 49,  3, 26, 41, 17, 27, 21, 18, 37, 13, 50, 24,\n",
       "         1,  0,  8,  5, 44, 25,  4, 39, 36, 23, 42, 35,  7, 33, 30, 22, 12,\n",
       "        29, 28, 47]),\n",
       " 'target_distance': 18,\n",
       " 'solution': [-1,\n",
       "  14,\n",
       "  1,\n",
       "  7,\n",
       "  2,\n",
       "  2,\n",
       "  14,\n",
       "  12,\n",
       "  11,\n",
       "  14,\n",
       "  9,\n",
       "  15,\n",
       "  1,\n",
       "  14,\n",
       "  10,\n",
       "  0,\n",
       "  17,\n",
       "  0,\n",
       "  1096177120],\n",
       " 'h_values': [16.822,\n",
       "  15.057,\n",
       "  13.543,\n",
       "  14.918,\n",
       "  13.396,\n",
       "  12.104,\n",
       "  11.965,\n",
       "  10.987,\n",
       "  9.144,\n",
       "  9.202,\n",
       "  7.283,\n",
       "  7.16,\n",
       "  5.551,\n",
       "  4.406,\n",
       "  3.555,\n",
       "  3.471,\n",
       "  2.608,\n",
       "  1.332,\n",
       "  0.0],\n",
       " 'visit_nodes': 41036,\n",
       " 'duration_sec': 12.019}"
      ]
     },
     "execution_count": 7,
     "metadata": {},
     "output_type": "execute_result"
    }
   ],
   "source": [
    "df.to_dict(\"records\")[609]"
   ]
  },
  {
   "cell_type": "code",
   "execution_count": 149,
   "metadata": {},
   "outputs": [
    {
     "data": {
      "text/plain": [
       "[<matplotlib.lines.Line2D at 0x17b777cd0>]"
      ]
     },
     "execution_count": 149,
     "metadata": {},
     "output_type": "execute_result"
    },
    {
     "data": {
      "image/png": "[encoded data removed]",
      "text/plain": [
       "<Figure size 640x480 with 1 Axes>"
      ]
     },
     "metadata": {},
     "output_type": "display_data"
    }
   ],
   "source": [
    "plt.plot(df.visit_nodes)"
   ]
  },
  {
   "cell_type": "code",
   "execution_count": 94,
   "metadata": {},
   "outputs": [
    {
     "data": {
      "text/plain": [
       "(array([934.,  16.,   8.,   1.,   1.,   1.,   1.,   0.,   0.,   1.]),\n",
       " array([      0. ,  928598.9, 1857197.8, 2785796.7, 3714395.6, 4642994.5,\n",
       "        5571593.4, 6500192.3, 7428791.2, 8357390.1, 9285989. ]),\n",
       " <BarContainer object of 10 artists>)"
      ]
     },
     "execution_count": 94,
     "metadata": {},
     "output_type": "execute_result"
    },
    {
     "data": {
      "image/png": "[encoded data removed]",
      "text/plain": [
       "<Figure size 640x480 with 1 Axes>"
      ]
     },
     "metadata": {},
     "output_type": "display_data"
    }
   ],
   "source": [
    "plt.hist(df.visit_nodes)"
   ]
  },
  {
   "cell_type": "code",
   "execution_count": 21,
   "metadata": {},
   "outputs": [
    {
     "data": {
      "text/plain": [
       "0                                                     []\n",
       "1                                                     []\n",
       "2                                                     []\n",
       "3                                                     []\n",
       "4                                                     []\n",
       "                             ...                        \n",
       "939    [-1, 3, 11, 13, 3, 8, 8, 3, 13, 4, 10, 15, 9, ...\n",
       "940    [-1, 12, 6, 12, 4, 7, 8, 16, 15, 9, 14, 1, 9, ...\n",
       "941    [-1, 9, 13, 4, 8, 11, 16, 5, 5, 12, 11, 12, 7,...\n",
       "942    [-1, 4, 17, 6, 5, 12, 9, 13, 3, 17, 17, 1, 16,...\n",
       "943    [-1, 12, 12, 3, 13, 10, 15, 5, 6, 17, 3, 6, 14...\n",
       "Name: solution, Length: 944, dtype: object"
      ]
     },
     "execution_count": 21,
     "metadata": {},
     "output_type": "execute_result"
    }
   ],
   "source": [
    "df[\"solution\"]"
   ]
  },
  {
   "cell_type": "code",
   "execution_count": 96,
   "metadata": {},
   "outputs": [
    {
     "data": {
      "text/plain": [
       "10.850330000000001"
      ]
     },
     "execution_count": 96,
     "metadata": {},
     "output_type": "execute_result"
    }
   ],
   "source": [
    "df[\"duration_sec\"].sum() / 3600"
   ]
  },
  {
   "cell_type": "code",
   "execution_count": 95,
   "metadata": {},
   "outputs": [
    {
     "data": {
      "text/plain": [
       "3.6786883333333336"
      ]
     },
     "execution_count": 95,
     "metadata": {},
     "output_type": "execute_result"
    }
   ],
   "source": [
    "df[\"duration_sec\"][-70:].sum() / 3600"
   ]
  },
  {
   "cell_type": "code",
   "execution_count": 13,
   "metadata": {},
   "outputs": [],
   "source": [
    "import sys\n",
    "\n",
    "sys.path.append(\"/Users/euclid/Projects/DeepDeepCube\")\n",
    "\n",
    "from cube3_game import Cube3Game"
   ]
  },
  {
   "cell_type": "code",
   "execution_count": 14,
   "metadata": {},
   "outputs": [],
   "source": [
    "game = Cube3Game(\"../assets/envs/cube_3_3_3_actions.pickle\")"
   ]
  },
  {
   "cell_type": "code",
   "execution_count": 15,
   "metadata": {},
   "outputs": [
    {
     "name": "stdout",
     "output_type": "stream",
     "text": [
      "is_goal: True\n"
     ]
    }
   ],
   "source": [
    "i = 608\n",
    "\n",
    "state = df.iloc[i].state\n",
    "solution = df.iloc[i].solution\n",
    "\n",
    "for action in solution[:-1] + [13]:\n",
    "    if action == -1:\n",
    "        continue\n",
    "    \n",
    "    state = game.apply_action(state, action)\n",
    "    # print(action, \":\", state)\n",
    "\n",
    "print(\"is_goal:\", game.is_goal_by_state(state))"
   ]
  },
  {
   "cell_type": "code",
   "execution_count": 16,
   "metadata": {},
   "outputs": [
    {
     "data": {
      "text/plain": [
       "930"
      ]
     },
     "execution_count": 16,
     "metadata": {},
     "output_type": "execute_result"
    }
   ],
   "source": [
    "df.iloc[-1][\"i\"]"
   ]
  },
  {
   "cell_type": "code",
   "execution_count": 17,
   "metadata": {},
   "outputs": [],
   "source": [
    "for action in range(len(game.actions)):\n",
    "    new_state = game.apply_action(state, action)\n",
    "    is_goal = game.is_goal_by_state(new_state)\n",
    "\n",
    "    # print(action, \":\", new_state)\n",
    "    if is_goal:\n",
    "        print(\"Real action:\", action)\n",
    "        break\n",
    "    # else:\n",
    "        # print(action,\" is not solution!\")"
   ]
  },
  {
   "cell_type": "code",
   "execution_count": 19,
   "metadata": {},
   "outputs": [
    {
     "data": {
      "text/plain": [
       "i                                                                608\n",
       "state              [17, 10, 2, 23, 22, 21, 9, 37, 33, 38, 3, 26, ...\n",
       "target_distance                                                   18\n",
       "solution           [-1, 1, 1, 17, 4, 13, 6, 13, 7, 5, 14, 5, 9, 5...\n",
       "h_values           [21.306, 18.988, 17.14, 16.371, 18.425, 17.355...\n",
       "visit_nodes                                                  1226039\n",
       "duration_sec                                                 437.156\n",
       "Name: 608, dtype: object"
      ]
     },
     "execution_count": 19,
     "metadata": {},
     "output_type": "execute_result"
    }
   ],
   "source": [
    "df.iloc[608]"
   ]
  },
  {
   "cell_type": "code",
   "execution_count": 148,
   "metadata": {},
   "outputs": [
    {
     "data": {
      "text/plain": [
       "[<matplotlib.lines.Line2D at 0x17b7a0350>]"
      ]
     },
     "execution_count": 148,
     "metadata": {},
     "output_type": "execute_result"
    },
    {
     "data": {
      "image/png": "[encoded data removed]",
      "text/plain": [
       "<Figure size 640x480 with 1 Axes>"
      ]
     },
     "metadata": {},
     "output_type": "display_data"
    }
   ],
   "source": [
    "plt.plot([len(s) for s in df[\"solution\"]])"
   ]
  },
  {
   "cell_type": "code",
   "execution_count": 151,
   "metadata": {},
   "outputs": [
    {
     "data": {
      "text/html": [
       "<div>\n",
       "<style scoped>\n",
       "    .dataframe tbody tr th:only-of-type {\n",
       "        vertical-align: middle;\n",
       "    }\n",
       "\n",
       "    .dataframe tbody tr th {\n",
       "        vertical-align: top;\n",
       "    }\n",
       "\n",
       "    .dataframe thead th {\n",
       "        text-align: right;\n",
       "    }\n",
       "</style>\n",
       "<table border=\"1\" class=\"dataframe\">\n",
       "  <thead>\n",
       "    <tr style=\"text-align: right;\">\n",
       "      <th></th>\n",
       "      <th>i</th>\n",
       "      <th>state</th>\n",
       "      <th>target_distance</th>\n",
       "      <th>solution</th>\n",
       "      <th>h_values</th>\n",
       "      <th>visit_nodes</th>\n",
       "      <th>duration_sec</th>\n",
       "    </tr>\n",
       "  </thead>\n",
       "  <tbody>\n",
       "    <tr>\n",
       "      <th>0</th>\n",
       "      <td>0</td>\n",
       "      <td>[0, 1, 2, 3, 4, 5, 6, 7, 8, 9, 10, 11, 12, 13,...</td>\n",
       "      <td>0</td>\n",
       "      <td>[]</td>\n",
       "      <td>[]</td>\n",
       "      <td>0</td>\n",
       "      <td>0.000</td>\n",
       "    </tr>\n",
       "    <tr>\n",
       "      <th>1</th>\n",
       "      <td>1</td>\n",
       "      <td>[0, 1, 2, 3, 4, 5, 6, 7, 8, 9, 10, 11, 12, 13,...</td>\n",
       "      <td>0</td>\n",
       "      <td>[]</td>\n",
       "      <td>[]</td>\n",
       "      <td>0</td>\n",
       "      <td>0.000</td>\n",
       "    </tr>\n",
       "    <tr>\n",
       "      <th>2</th>\n",
       "      <td>2</td>\n",
       "      <td>[0, 1, 2, 3, 4, 5, 6, 7, 8, 9, 10, 11, 12, 13,...</td>\n",
       "      <td>0</td>\n",
       "      <td>[]</td>\n",
       "      <td>[]</td>\n",
       "      <td>0</td>\n",
       "      <td>0.000</td>\n",
       "    </tr>\n",
       "    <tr>\n",
       "      <th>3</th>\n",
       "      <td>3</td>\n",
       "      <td>[0, 1, 2, 3, 4, 5, 6, 7, 8, 9, 10, 11, 12, 13,...</td>\n",
       "      <td>0</td>\n",
       "      <td>[]</td>\n",
       "      <td>[]</td>\n",
       "      <td>0</td>\n",
       "      <td>0.000</td>\n",
       "    </tr>\n",
       "    <tr>\n",
       "      <th>4</th>\n",
       "      <td>4</td>\n",
       "      <td>[0, 1, 2, 3, 4, 5, 6, 7, 8, 9, 10, 11, 12, 13,...</td>\n",
       "      <td>0</td>\n",
       "      <td>[]</td>\n",
       "      <td>[]</td>\n",
       "      <td>0</td>\n",
       "      <td>0.000</td>\n",
       "    </tr>\n",
       "    <tr>\n",
       "      <th>...</th>\n",
       "      <td>...</td>\n",
       "      <td>...</td>\n",
       "      <td>...</td>\n",
       "      <td>...</td>\n",
       "      <td>...</td>\n",
       "      <td>...</td>\n",
       "      <td>...</td>\n",
       "    </tr>\n",
       "    <tr>\n",
       "      <th>989</th>\n",
       "      <td>988</td>\n",
       "      <td>[33, 19, 20, 41, 4, 46, 8, 34, 0, 18, 52, 29, ...</td>\n",
       "      <td>29</td>\n",
       "      <td>[-1, 13, 4, 17, 15, 6, 4, 9, 17, 6, 15, 11, 12...</td>\n",
       "      <td>[21.9, 20.086, 18.813, 18.46, 17.887, 17.739, ...</td>\n",
       "      <td>946076</td>\n",
       "      <td>307.997</td>\n",
       "    </tr>\n",
       "    <tr>\n",
       "      <th>990</th>\n",
       "      <td>989</td>\n",
       "      <td>[20, 7, 26, 34, 13, 5, 17, 21, 36, 24, 14, 0, ...</td>\n",
       "      <td>29</td>\n",
       "      <td>[-1, 8, 16, 0, 15, 11, 8, 16, 1, 6, 3, 9, 5, 1...</td>\n",
       "      <td>[21.644, 21.272, 21.131, 20.268, 18.379, 16.66...</td>\n",
       "      <td>1289357</td>\n",
       "      <td>425.260</td>\n",
       "    </tr>\n",
       "    <tr>\n",
       "      <th>991</th>\n",
       "      <td>990</td>\n",
       "      <td>[9, 48, 2, 46, 49, 5, 26, 25, 15, 33, 50, 44, ...</td>\n",
       "      <td>29</td>\n",
       "      <td>[-1, 9, 12, 1, 7, 16, 0, 5, 17, 7, 2, 4, 12, 2...</td>\n",
       "      <td>[19.029, 19.107, 19.585, 18.324, 16.417, 14.88...</td>\n",
       "      <td>258761</td>\n",
       "      <td>76.764</td>\n",
       "    </tr>\n",
       "    <tr>\n",
       "      <th>992</th>\n",
       "      <td>991</td>\n",
       "      <td>[17, 52, 51, 1, 49, 7, 26, 32, 8, 33, 39, 11, ...</td>\n",
       "      <td>29</td>\n",
       "      <td>[-1, 1, 12, 4, 17, 6, 17, 7, 17, 17, 8, 4, 15,...</td>\n",
       "      <td>[22.071, 21.151, 21.038, 18.729, 18.29, 17.533...</td>\n",
       "      <td>294937</td>\n",
       "      <td>88.055</td>\n",
       "    </tr>\n",
       "    <tr>\n",
       "      <th>993</th>\n",
       "      <td>992</td>\n",
       "      <td>[44, 21, 11, 7, 40, 25, 38, 5, 51, 6, 19, 42, ...</td>\n",
       "      <td>29</td>\n",
       "      <td>[-1, 16, 7, 1, 11, 14, 10, 1, 11, 3, 3, 17, 10...</td>\n",
       "      <td>[19.152, 19.109, 17.509, 15.984, 16.44, 14.829...</td>\n",
       "      <td>27880</td>\n",
       "      <td>7.135</td>\n",
       "    </tr>\n",
       "  </tbody>\n",
       "</table>\n",
       "<p>994 rows × 7 columns</p>\n",
       "</div>"
      ],
      "text/plain": [
       "       i                                              state  target_distance  \\\n",
       "0      0  [0, 1, 2, 3, 4, 5, 6, 7, 8, 9, 10, 11, 12, 13,...                0   \n",
       "1      1  [0, 1, 2, 3, 4, 5, 6, 7, 8, 9, 10, 11, 12, 13,...                0   \n",
       "2      2  [0, 1, 2, 3, 4, 5, 6, 7, 8, 9, 10, 11, 12, 13,...                0   \n",
       "3      3  [0, 1, 2, 3, 4, 5, 6, 7, 8, 9, 10, 11, 12, 13,...                0   \n",
       "4      4  [0, 1, 2, 3, 4, 5, 6, 7, 8, 9, 10, 11, 12, 13,...                0   \n",
       "..   ...                                                ...              ...   \n",
       "989  988  [33, 19, 20, 41, 4, 46, 8, 34, 0, 18, 52, 29, ...               29   \n",
       "990  989  [20, 7, 26, 34, 13, 5, 17, 21, 36, 24, 14, 0, ...               29   \n",
       "991  990  [9, 48, 2, 46, 49, 5, 26, 25, 15, 33, 50, 44, ...               29   \n",
       "992  991  [17, 52, 51, 1, 49, 7, 26, 32, 8, 33, 39, 11, ...               29   \n",
       "993  992  [44, 21, 11, 7, 40, 25, 38, 5, 51, 6, 19, 42, ...               29   \n",
       "\n",
       "                                              solution  \\\n",
       "0                                                   []   \n",
       "1                                                   []   \n",
       "2                                                   []   \n",
       "3                                                   []   \n",
       "4                                                   []   \n",
       "..                                                 ...   \n",
       "989  [-1, 13, 4, 17, 15, 6, 4, 9, 17, 6, 15, 11, 12...   \n",
       "990  [-1, 8, 16, 0, 15, 11, 8, 16, 1, 6, 3, 9, 5, 1...   \n",
       "991  [-1, 9, 12, 1, 7, 16, 0, 5, 17, 7, 2, 4, 12, 2...   \n",
       "992  [-1, 1, 12, 4, 17, 6, 17, 7, 17, 17, 8, 4, 15,...   \n",
       "993  [-1, 16, 7, 1, 11, 14, 10, 1, 11, 3, 3, 17, 10...   \n",
       "\n",
       "                                              h_values  visit_nodes  \\\n",
       "0                                                   []            0   \n",
       "1                                                   []            0   \n",
       "2                                                   []            0   \n",
       "3                                                   []            0   \n",
       "4                                                   []            0   \n",
       "..                                                 ...          ...   \n",
       "989  [21.9, 20.086, 18.813, 18.46, 17.887, 17.739, ...       946076   \n",
       "990  [21.644, 21.272, 21.131, 20.268, 18.379, 16.66...      1289357   \n",
       "991  [19.029, 19.107, 19.585, 18.324, 16.417, 14.88...       258761   \n",
       "992  [22.071, 21.151, 21.038, 18.729, 18.29, 17.533...       294937   \n",
       "993  [19.152, 19.109, 17.509, 15.984, 16.44, 14.829...        27880   \n",
       "\n",
       "     duration_sec  \n",
       "0           0.000  \n",
       "1           0.000  \n",
       "2           0.000  \n",
       "3           0.000  \n",
       "4           0.000  \n",
       "..            ...  \n",
       "989       307.997  \n",
       "990       425.260  \n",
       "991        76.764  \n",
       "992        88.055  \n",
       "993         7.135  \n",
       "\n",
       "[994 rows x 7 columns]"
      ]
     },
     "execution_count": 151,
     "metadata": {},
     "output_type": "execute_result"
    }
   ],
   "source": [
    "df"
   ]
  },
  {
   "cell_type": "code",
   "execution_count": 167,
   "metadata": {},
   "outputs": [
    {
     "data": {
      "text/plain": [
       "12.258575277777778"
      ]
     },
     "execution_count": 167,
     "metadata": {},
     "output_type": "execute_result"
    }
   ],
   "source": [
    "df[\"duration_sec\"].sum() / 3600"
   ]
  },
  {
   "cell_type": "code",
   "execution_count": 168,
   "metadata": {},
   "outputs": [
    {
     "data": {
      "text/html": [
       "<div>\n",
       "<style scoped>\n",
       "    .dataframe tbody tr th:only-of-type {\n",
       "        vertical-align: middle;\n",
       "    }\n",
       "\n",
       "    .dataframe tbody tr th {\n",
       "        vertical-align: top;\n",
       "    }\n",
       "\n",
       "    .dataframe thead th {\n",
       "        text-align: right;\n",
       "    }\n",
       "</style>\n",
       "<table border=\"1\" class=\"dataframe\">\n",
       "  <thead>\n",
       "    <tr style=\"text-align: right;\">\n",
       "      <th></th>\n",
       "      <th>i</th>\n",
       "      <th>state</th>\n",
       "      <th>target_distance</th>\n",
       "      <th>solution</th>\n",
       "      <th>h_values</th>\n",
       "      <th>visit_nodes</th>\n",
       "      <th>duration_sec</th>\n",
       "    </tr>\n",
       "  </thead>\n",
       "  <tbody>\n",
       "    <tr>\n",
       "      <th>0</th>\n",
       "      <td>0</td>\n",
       "      <td>[0, 1, 2, 3, 4, 5, 6, 7, 8, 9, 10, 11, 12, 13,...</td>\n",
       "      <td>0</td>\n",
       "      <td>[]</td>\n",
       "      <td>[]</td>\n",
       "      <td>0</td>\n",
       "      <td>0.000</td>\n",
       "    </tr>\n",
       "    <tr>\n",
       "      <th>1</th>\n",
       "      <td>1</td>\n",
       "      <td>[0, 1, 2, 3, 4, 5, 6, 7, 8, 9, 10, 11, 12, 13,...</td>\n",
       "      <td>0</td>\n",
       "      <td>[]</td>\n",
       "      <td>[]</td>\n",
       "      <td>0</td>\n",
       "      <td>0.000</td>\n",
       "    </tr>\n",
       "    <tr>\n",
       "      <th>2</th>\n",
       "      <td>2</td>\n",
       "      <td>[0, 1, 2, 3, 4, 5, 6, 7, 8, 9, 10, 11, 12, 13,...</td>\n",
       "      <td>0</td>\n",
       "      <td>[]</td>\n",
       "      <td>[]</td>\n",
       "      <td>0</td>\n",
       "      <td>0.000</td>\n",
       "    </tr>\n",
       "    <tr>\n",
       "      <th>3</th>\n",
       "      <td>3</td>\n",
       "      <td>[0, 1, 2, 3, 4, 5, 6, 7, 8, 9, 10, 11, 12, 13,...</td>\n",
       "      <td>0</td>\n",
       "      <td>[]</td>\n",
       "      <td>[]</td>\n",
       "      <td>0</td>\n",
       "      <td>0.000</td>\n",
       "    </tr>\n",
       "    <tr>\n",
       "      <th>4</th>\n",
       "      <td>4</td>\n",
       "      <td>[0, 1, 2, 3, 4, 5, 6, 7, 8, 9, 10, 11, 12, 13,...</td>\n",
       "      <td>0</td>\n",
       "      <td>[]</td>\n",
       "      <td>[]</td>\n",
       "      <td>0</td>\n",
       "      <td>0.000</td>\n",
       "    </tr>\n",
       "    <tr>\n",
       "      <th>...</th>\n",
       "      <td>...</td>\n",
       "      <td>...</td>\n",
       "      <td>...</td>\n",
       "      <td>...</td>\n",
       "      <td>...</td>\n",
       "      <td>...</td>\n",
       "      <td>...</td>\n",
       "    </tr>\n",
       "    <tr>\n",
       "      <th>996</th>\n",
       "      <td>995</td>\n",
       "      <td>[47, 39, 20, 1, 31, 52, 51, 23, 11, 35, 30, 18...</td>\n",
       "      <td>29</td>\n",
       "      <td>[-1, 0, 8, 17, 6, 11, 0, 17, 11, 3, 16, 11, 1,...</td>\n",
       "      <td>[24.726, 21.979, 20.859, 19.661, 17.922, 17.04...</td>\n",
       "      <td>209623</td>\n",
       "      <td>65.866</td>\n",
       "    </tr>\n",
       "    <tr>\n",
       "      <th>997</th>\n",
       "      <td>996</td>\n",
       "      <td>[0, 1, 17, 12, 13, 50, 26, 23, 35, 33, 30, 51,...</td>\n",
       "      <td>29</td>\n",
       "      <td>[-1, 14, 7, 0, 7, 4, 9, 11, 1, 11, 0, 5, 7, 2]</td>\n",
       "      <td>[19.744, 20.637, 19.302, 16.938, 16.725, 15.53...</td>\n",
       "      <td>40341</td>\n",
       "      <td>11.599</td>\n",
       "    </tr>\n",
       "    <tr>\n",
       "      <th>998</th>\n",
       "      <td>997</td>\n",
       "      <td>[6, 19, 20, 32, 13, 48, 29, 1, 17, 0, 28, 47, ...</td>\n",
       "      <td>29</td>\n",
       "      <td>[-1, 2, 5, 8, 12, 4, 14, 2, 1, 13, 4, 0, 7, 15...</td>\n",
       "      <td>[19.382, 19.42, 17.302, 16.208, 13.849, 11.68,...</td>\n",
       "      <td>1571</td>\n",
       "      <td>0.397</td>\n",
       "    </tr>\n",
       "    <tr>\n",
       "      <th>999</th>\n",
       "      <td>998</td>\n",
       "      <td>[42, 32, 2, 50, 4, 21, 0, 30, 33, 36, 23, 26, ...</td>\n",
       "      <td>29</td>\n",
       "      <td>[-1, 11, 3, 6, 3, 12, 8, 1, 14, 5, 17, 5, 5, 1...</td>\n",
       "      <td>[23.999, 20.958, 18.883, 18.607, 16.072, 15.25...</td>\n",
       "      <td>24927</td>\n",
       "      <td>7.018</td>\n",
       "    </tr>\n",
       "    <tr>\n",
       "      <th>1000</th>\n",
       "      <td>999</td>\n",
       "      <td>[27, 32, 17, 5, 4, 12, 45, 34, 9, 44, 52, 6, 1...</td>\n",
       "      <td>29</td>\n",
       "      <td>[-1, 12, 11, 4, 8, 17, 7, 17, 11, 3, 3, 7, 0, ...</td>\n",
       "      <td>[18.763, 18.161, 17.303, 16.545, 15.931, 13.93...</td>\n",
       "      <td>35390</td>\n",
       "      <td>10.231</td>\n",
       "    </tr>\n",
       "  </tbody>\n",
       "</table>\n",
       "<p>1001 rows × 7 columns</p>\n",
       "</div>"
      ],
      "text/plain": [
       "        i                                              state  target_distance  \\\n",
       "0       0  [0, 1, 2, 3, 4, 5, 6, 7, 8, 9, 10, 11, 12, 13,...                0   \n",
       "1       1  [0, 1, 2, 3, 4, 5, 6, 7, 8, 9, 10, 11, 12, 13,...                0   \n",
       "2       2  [0, 1, 2, 3, 4, 5, 6, 7, 8, 9, 10, 11, 12, 13,...                0   \n",
       "3       3  [0, 1, 2, 3, 4, 5, 6, 7, 8, 9, 10, 11, 12, 13,...                0   \n",
       "4       4  [0, 1, 2, 3, 4, 5, 6, 7, 8, 9, 10, 11, 12, 13,...                0   \n",
       "...   ...                                                ...              ...   \n",
       "996   995  [47, 39, 20, 1, 31, 52, 51, 23, 11, 35, 30, 18...               29   \n",
       "997   996  [0, 1, 17, 12, 13, 50, 26, 23, 35, 33, 30, 51,...               29   \n",
       "998   997  [6, 19, 20, 32, 13, 48, 29, 1, 17, 0, 28, 47, ...               29   \n",
       "999   998  [42, 32, 2, 50, 4, 21, 0, 30, 33, 36, 23, 26, ...               29   \n",
       "1000  999  [27, 32, 17, 5, 4, 12, 45, 34, 9, 44, 52, 6, 1...               29   \n",
       "\n",
       "                                               solution  \\\n",
       "0                                                    []   \n",
       "1                                                    []   \n",
       "2                                                    []   \n",
       "3                                                    []   \n",
       "4                                                    []   \n",
       "...                                                 ...   \n",
       "996   [-1, 0, 8, 17, 6, 11, 0, 17, 11, 3, 16, 11, 1,...   \n",
       "997      [-1, 14, 7, 0, 7, 4, 9, 11, 1, 11, 0, 5, 7, 2]   \n",
       "998   [-1, 2, 5, 8, 12, 4, 14, 2, 1, 13, 4, 0, 7, 15...   \n",
       "999   [-1, 11, 3, 6, 3, 12, 8, 1, 14, 5, 17, 5, 5, 1...   \n",
       "1000  [-1, 12, 11, 4, 8, 17, 7, 17, 11, 3, 3, 7, 0, ...   \n",
       "\n",
       "                                               h_values  visit_nodes  \\\n",
       "0                                                    []            0   \n",
       "1                                                    []            0   \n",
       "2                                                    []            0   \n",
       "3                                                    []            0   \n",
       "4                                                    []            0   \n",
       "...                                                 ...          ...   \n",
       "996   [24.726, 21.979, 20.859, 19.661, 17.922, 17.04...       209623   \n",
       "997   [19.744, 20.637, 19.302, 16.938, 16.725, 15.53...        40341   \n",
       "998   [19.382, 19.42, 17.302, 16.208, 13.849, 11.68,...         1571   \n",
       "999   [23.999, 20.958, 18.883, 18.607, 16.072, 15.25...        24927   \n",
       "1000  [18.763, 18.161, 17.303, 16.545, 15.931, 13.93...        35390   \n",
       "\n",
       "      duration_sec  \n",
       "0            0.000  \n",
       "1            0.000  \n",
       "2            0.000  \n",
       "3            0.000  \n",
       "4            0.000  \n",
       "...            ...  \n",
       "996         65.866  \n",
       "997         11.599  \n",
       "998          0.397  \n",
       "999          7.018  \n",
       "1000        10.231  \n",
       "\n",
       "[1001 rows x 7 columns]"
      ]
     },
     "execution_count": 168,
     "metadata": {},
     "output_type": "execute_result"
    }
   ],
   "source": [
    "df"
   ]
  },
  {
   "cell_type": "code",
   "execution_count": 174,
   "metadata": {},
   "outputs": [
    {
     "data": {
      "text/plain": [
       "9285989"
      ]
     },
     "execution_count": 174,
     "metadata": {},
     "output_type": "execute_result"
    }
   ],
   "source": [
    "df[\"visit_nodes\"].max()"
   ]
  },
  {
   "cell_type": "code",
   "execution_count": null,
   "metadata": {},
   "outputs": [],
   "source": []
  }
 ],
 "metadata": {
  "kernelspec": {
   "display_name": "py11",
   "language": "python",
   "name": "python3"
  },
  "language_info": {
   "codemirror_mode": {
    "name": "ipython",
    "version": 3
   },
   "file_extension": ".py",
   "mimetype": "text/x-python",
   "name": "python",
   "nbconvert_exporter": "python",
   "pygments_lexer": "ipython3",
   "version": "3.11.7"
  }
 },
 "nbformat": 4,
 "nbformat_minor": 2
}
