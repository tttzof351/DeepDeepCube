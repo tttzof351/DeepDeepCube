{
 "cells": [
  {
   "cell_type": "code",
   "execution_count": 179,
   "metadata": {},
   "outputs": [],
   "source": [
    "import pandas as pd\n",
    "import matplotlib.pyplot as plt\n",
    "import numpy as np\n",
    "\n",
    "import sys\n",
    "\n",
    "sys.path.append(\"../\")\n",
    "\n",
    "from cube3_game import Cube3Game"
   ]
  },
  {
   "cell_type": "code",
   "execution_count": 286,
   "metadata": {},
   "outputs": [],
   "source": [
    "df = pd.read_pickle(\"../assets/reports/cpp_reports.pkl\")"
   ]
  },
  {
   "cell_type": "code",
   "execution_count": 287,
   "metadata": {},
   "outputs": [],
   "source": [
    "game = Cube3Game(\"../assets/envs/cube_3_3_3_actions.pickle\")"
   ]
  },
  {
   "cell_type": "code",
   "execution_count": 294,
   "metadata": {},
   "outputs": [],
   "source": [
    "records = df.to_dict(\"records\")\n",
    "\n",
    "for r in records:\n",
    "    if r[\"target_distance\"] == 0:\n",
    "        continue\n",
    "\n",
    "    solution = r[\"solution\"]\n",
    "    state = r[\"state\"]\n",
    "\n",
    "    for a in solution[1:]:\n",
    "        state = game.apply_action(state, action=a)\n",
    "\n",
    "    if not game.is_goal_by_state(state):\n",
    "        print(\"Bad solution:\", r[\"i\"])\n"
   ]
  }
 ],
 "metadata": {
  "kernelspec": {
   "display_name": "py11",
   "language": "python",
   "name": "python3"
  },
  "language_info": {
   "codemirror_mode": {
    "name": "ipython",
    "version": 3
   },
   "file_extension": ".py",
   "mimetype": "text/x-python",
   "name": "python",
   "nbconvert_exporter": "python",
   "pygments_lexer": "ipython3",
   "version": "3.11.7"
  }
 },
 "nbformat": 4,
 "nbformat_minor": 2
}
