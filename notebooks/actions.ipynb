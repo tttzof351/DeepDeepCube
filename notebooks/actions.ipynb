{
 "cells": [
  {
   "cell_type": "code",
   "execution_count": 2,
   "metadata": {},
   "outputs": [],
   "source": [
    "import numpy as np\n",
    "import pickle"
   ]
  },
  {
   "cell_type": "code",
   "execution_count": null,
   "metadata": {},
   "outputs": [],
   "source": [
    "sticker_replacement = {\n",
    "    # Sticker A is replaced by another sticker at index B -> A:B\n",
    "    'U':{0: 6, 1: 3, 2: 0, 3: 7, 5: 1, 6: 8, 7: 5, 8: 2, 20: 47, 23: 50, 26: 53, 29: 38, 32: 41, 35: 44, 38: 20, 41: 23, 44: 26, 47: 29, 50: 32, 53: 35},\n",
    "    'D':{9: 15, 10: 12, 11: 9, 12: 16, 14: 10, 15: 17, 16: 14, 17: 11, 18: 36, 21: 39, 24: 42, 27: 45, 30: 48, 33: 51, 36: 27, 39: 30, 42: 33, 45: 18, 48: 21, 51: 24},\n",
    "    'L':{0: 44, 1: 43, 2: 42, 9: 45, 10: 46, 11: 47, 18: 24, 19: 21, 20: 18, 21: 25, 23: 19, 24: 26, 25: 23, 26: 20, 42: 11, 43: 10, 44: 9, 45: 0, 46: 1, 47: 2},\n",
    "    'R':{6: 51, 7: 52, 8: 53, 15: 38, 16: 37, 17: 36, 27: 33, 28: 30, 29: 27, 30: 34, 32: 28, 33: 35, 34: 32, 35: 29, 36: 8, 37: 7, 38: 6, 51: 15, 52: 16, 53: 17},\n",
    "    'B':{2: 35, 5: 34, 8: 33, 9: 20, 12: 19, 15: 18, 18: 2, 19: 5, 20: 8, 33: 9, 34: 12, 35: 15, 36: 42, 37: 39, 38: 36, 39: 43, 41: 37, 42: 44, 43: 41, 44: 38},\n",
    "    'F':{0: 24, 3: 25, 6: 26, 11: 27, 14: 28, 17: 29, 24: 17, 25: 14, 26: 11, 27: 6, 28: 3, 29: 0, 45: 51, 46: 48, 47: 45, 48: 52, 50: 46, 51: 53, 52: 50, 53: 47}\n",
    "}"
   ]
  },
  {
   "cell_type": "code",
   "execution_count": 74,
   "metadata": {},
   "outputs": [],
   "source": [
    "def inverse_permutation(perm):\n",
    "    # Create an empty list to hold the inverse permutation\n",
    "    inverse = [0] * len(perm)\n",
    "    \n",
    "    # Iterate over the original permutation\n",
    "    for i, p in enumerate(perm):\n",
    "        # Place the index at the correct position in the inverse permutation\n",
    "        inverse[p] = i\n",
    "    \n",
    "    return inverse"
   ]
  },
  {
   "cell_type": "code",
   "execution_count": 16,
   "metadata": {},
   "outputs": [
    {
     "data": {
      "text/plain": [
       "array([24,  1,  2, 25,  4,  5, 26,  7,  8,  9, 10, 27, 12, 13, 28, 15, 16,\n",
       "       29, 18, 19, 20, 21, 22, 23, 17, 14, 11,  6,  3,  0, 30, 31, 32, 33,\n",
       "       34, 35, 36, 37, 38, 39, 40, 41, 42, 43, 44, 51, 48, 45, 52, 49, 46,\n",
       "       53, 50, 47])"
      ]
     },
     "execution_count": 16,
     "metadata": {},
     "output_type": "execute_result"
    }
   ],
   "source": []
  },
  {
   "cell_type": "code",
   "execution_count": 13,
   "metadata": {},
   "outputs": [],
   "source": [
    "with open(\"/Users/euclid/Projects/DeepDeepCube/assets/envs/cube_3_3_3_actions.pickle\", \"rb\") as f:\n",
    "    actions = np.array(pickle.load(f))"
   ]
  },
  {
   "cell_type": "code",
   "execution_count": 15,
   "metadata": {},
   "outputs": [
    {
     "data": {
      "text/plain": [
       "array([ 0,  1,  2,  3,  4,  5, 44, 41, 38, 15, 12,  9, 16, 13, 10, 17, 14,\n",
       "       11,  6, 19, 20,  7, 22, 23,  8, 25, 26, 27, 28, 29, 30, 31, 32, 33,\n",
       "       34, 35, 36, 37, 45, 39, 40, 46, 42, 43, 47, 24, 21, 18, 48, 49, 50,\n",
       "       51, 52, 53])"
      ]
     },
     "execution_count": 15,
     "metadata": {},
     "output_type": "execute_result"
    }
   ],
   "source": [
    "actions[0]"
   ]
  },
  {
   "cell_type": "code",
   "execution_count": 17,
   "metadata": {},
   "outputs": [],
   "source": [
    "class Cube3:\n",
    "    \"\"\"\n",
    "    A class for 3x3x3 Rubik's Cube\n",
    "    \"\"\"\n",
    "    def __init__(self):\n",
    "        self.DTYPE = np.int64\n",
    "\n",
    "        # Define initial and goal state\n",
    "        self.reset()\n",
    "        self.goal = np.arange(0, 9 * 6, dtype=self.DTYPE) // 9\n",
    "\n",
    "        # Define moves\n",
    "        ## faces and turns\n",
    "        faces = [\"U\", \"D\", \"L\", \"R\", \"B\", \"F\"]\n",
    "        ## [90 degrees clockwise, 90 degrees counter-clockwise]\n",
    "        degrees = [\"\", \"'\"]\n",
    "        degrees_inference = degrees[::-1]\n",
    "        self.moves = [f\"{f}{n}\" for f in faces for n in degrees]\n",
    "        self.moves_inference = [f\"{f}{n}\" for f in faces for n in degrees_inference]\n",
    "\n",
    "        # Opposite faces\n",
    "        self.pairing = {\n",
    "            \"R\": \"L\",\n",
    "            \"L\": \"R\",\n",
    "            \"F\": \"B\",\n",
    "            \"B\": \"F\",\n",
    "            \"U\": \"D\",\n",
    "            \"D\": \"U\",\n",
    "        }\n",
    "        # Prohibit obviously redundant moves.\n",
    "        self.moves_available_after = {\n",
    "            m: [v for v in self.moves if v[0] != m[0]] + [m]\n",
    "            for m in self.moves\n",
    "        } # self-cancelling moves on the same face\n",
    "\n",
    "        # [OPTIMIZATION] slicing by move string (e.g., R', U, F) => indices (e.g., 2, 6, 1)\n",
    "        self.moves_ix = [self.moves.index(m) for m in self.moves]\n",
    "        self.moves_ix_available_after = {\n",
    "            self.moves.index(m): [self.moves.index(m) for m in available_moves]\n",
    "            for m, available_moves in self.moves_available_after.items()\n",
    "        }\n",
    "        self.moves_ix_inference = [self.moves.index(m) for m in self.moves_inference]\n",
    "        self.pairing_ix = {\n",
    "            0: 1,\n",
    "            1: 0,\n",
    "            2: 3,\n",
    "            3: 2,\n",
    "            4: 5,\n",
    "            5: 4,\n",
    "        } # Points to the opposite face index\n",
    "\n",
    "        # Vectorize the sticker group replacement operations\n",
    "        self.__vectorize_moves()\n",
    "\n",
    "    def reset(self):\n",
    "        \"\"\"Resets the cube state to the solved state.\"\"\"\n",
    "        self.state = np.arange(0, 9 * 6, dtype=self.DTYPE) // 9\n",
    "\n",
    "    def is_solved(self):\n",
    "        \"\"\"Checks if the cube is in the solved state.\"\"\"\n",
    "        return np.all(self.state == self.goal)\n",
    "\n",
    "    def finger(self, move):\n",
    "        \"\"\"Applies a single move on the cube state using move string.\"\"\"\n",
    "        self.state[self.sticker_target[move]] = self.state[self.sticker_source[move]]\n",
    "\n",
    "    def finger_ix(self, ix):\n",
    "        \"\"\"The same `finger` method **but using indices of moves for faster execution\"\"\"\n",
    "        self.state[self.sticker_target_ix[ix]] = self.state[self.sticker_source_ix[ix]]\n",
    "\n",
    "    def apply_scramble(self, scramble):\n",
    "        \"\"\"Applies a sequence of moves (scramble) to the cube state.\"\"\"\n",
    "        if isinstance(scramble, str):\n",
    "            scramble = scramble.split()\n",
    "        for m in scramble:\n",
    "            if m[-1]=='2':\n",
    "                for _ in range(2):\n",
    "                    self.finger(m[0])\n",
    "            else:\n",
    "                    self.finger(m)\n",
    "\n",
    "    def scrambler(self, scramble_length):\n",
    "        \"\"\"\n",
    "        Generates a random scramble of given length and returns the cube state and scramble moves as a generator.\n",
    "        Please note that index-based implementations (faster) follow commented lexical logics.\n",
    "        \"\"\"\n",
    "        while True:\n",
    "            # Reset the cube state, scramble, and return cube state and scramble moves\n",
    "            self.reset()\n",
    "            scramble = []\n",
    "\n",
    "            for i in range(scramble_length):\n",
    "                if i:\n",
    "                    last_move = scramble[-1]\n",
    "                    if i > 1:   # [3rd~ moves]\n",
    "                        while True:\n",
    "                            # move = random.choice(self.moves_available_after[last_move])\n",
    "                            move = random.choice(self.moves_ix_available_after[last_move])\n",
    "\n",
    "                            if scramble[-2] == last_move == move:\n",
    "                                # Three subsequent moves on the same face, which could be one\n",
    "                                continue\n",
    "                            # elif (\n",
    "                            #     scramble[-2][0] == move[0] and len(scramble[-2] + move) == 3\n",
    "                            #     and last_move[0] == self.pairing[move[0]]\n",
    "                            # ):\n",
    "                            elif (\n",
    "                                scramble[-2]//2 == move//2 and scramble[-2]%2 != move%2\n",
    "                                and last_move//2 == self.pairing_ix[move//2]\n",
    "                            ):\n",
    "                                # Two mutually canceling moves sandwiching an opposite face move\n",
    "                                continue\n",
    "                            else:\n",
    "                                break\n",
    "                    else:       # [2nd move]\n",
    "                        # move = random.choice(self.moves_available_after[last_move])\n",
    "                        move = random.choice(self.moves_ix_available_after[last_move])\n",
    "                else:           # [1st move]\n",
    "                    # move = random.choice(self.moves)\n",
    "                    move = random.choice(self.moves_ix)\n",
    "\n",
    "                # self.finger(move)\n",
    "                self.finger_ix(move)\n",
    "                scramble.append(move)\n",
    "\n",
    "                yield self.state, move\n",
    "\n",
    "\n",
    "    def __vectorize_moves(self):\n",
    "        \"\"\"\n",
    "        Vectorizes the sticker group replacement operations for faster computation.\n",
    "        This method defines ```self.sticker_target``` and ```self.sticker_source``` to manage sticker colors (target is replaced by source).\n",
    "        They define indices of target and source stickers so that the moves can be vectorized.\n",
    "\n",
    "        Colors:\n",
    "\n",
    "                0 0 0\n",
    "                0 0 0\n",
    "                0 0 0\n",
    "        2 2 2   5 5 5   3 3 3   4 4 4\n",
    "        2 2 2   5 5 5   3 3 3   4 4 4\n",
    "        2 2 2   5 5 5   3 3 3   4 4 4\n",
    "                1 1 1\n",
    "                1 1 1\n",
    "                1 1 1\n",
    "\n",
    "        Order of stickers on each face:\n",
    "\n",
    "             2   5   8\n",
    "             1   4   7\n",
    "            [0]  3   6\n",
    "\n",
    "        Indices of state (each starting with 9*(n-1)):\n",
    "\n",
    "                         2   5   8\n",
    "                         1   4   7\n",
    "                        [0]  3   6\n",
    "             20  23 26  47  50  53  29  32 35  38  41 44\n",
    "             19  22 25  46  49  52  28  31 34  37  40 43\n",
    "            [18] 21 24 [45] 48  51 [27] 30 33 [36] 39 42\n",
    "                        11   14 17\n",
    "                        10   13 16\n",
    "                        [9]  12 15\n",
    "        \"\"\"\n",
    "        self.sticker_target, self.sticker_source = dict(), dict()\n",
    "\n",
    "        self.sticker_replacement = {\n",
    "            # Sticker A is replaced by another sticker at index B -> A:B\n",
    "            'U':{0: 6, 1: 3, 2: 0, 3: 7, 5: 1, 6: 8, 7: 5, 8: 2, 20: 47, 23: 50, 26: 53, 29: 38, 32: 41, 35: 44, 38: 20, 41: 23, 44: 26, 47: 29, 50: 32, 53: 35},\n",
    "            'D':{9: 15, 10: 12, 11: 9, 12: 16, 14: 10, 15: 17, 16: 14, 17: 11, 18: 36, 21: 39, 24: 42, 27: 45, 30: 48, 33: 51, 36: 27, 39: 30, 42: 33, 45: 18, 48: 21, 51: 24},\n",
    "            'L':{0: 44, 1: 43, 2: 42, 9: 45, 10: 46, 11: 47, 18: 24, 19: 21, 20: 18, 21: 25, 23: 19, 24: 26, 25: 23, 26: 20, 42: 11, 43: 10, 44: 9, 45: 0, 46: 1, 47: 2},\n",
    "            'R':{6: 51, 7: 52, 8: 53, 15: 38, 16: 37, 17: 36, 27: 33, 28: 30, 29: 27, 30: 34, 32: 28, 33: 35, 34: 32, 35: 29, 36: 8, 37: 7, 38: 6, 51: 15, 52: 16, 53: 17},\n",
    "            'B':{2: 35, 5: 34, 8: 33, 9: 20, 12: 19, 15: 18, 18: 2, 19: 5, 20: 8, 33: 9, 34: 12, 35: 15, 36: 42, 37: 39, 38: 36, 39: 43, 41: 37, 42: 44, 43: 41, 44: 38},\n",
    "            'F':{0: 24, 3: 25, 6: 26, 11: 27, 14: 28, 17: 29, 24: 17, 25: 14, 26: 11, 27: 6, 28: 3, 29: 0, 45: 51, 46: 48, 47: 45, 48: 52, 50: 46, 51: 53, 52: 50, 53: 47}\n",
    "        }\n",
    "        for m in self.moves:\n",
    "            if len(m) == 1:\n",
    "                assert m in self.sticker_replacement\n",
    "            else:\n",
    "                if \"'\" in m:\n",
    "                    self.sticker_replacement[m] = {\n",
    "                        v: k for k, v in self.sticker_replacement[m[0]].items()\n",
    "                    }\n",
    "                elif \"2\" in m:\n",
    "                    self.sticker_replacement[m] = {\n",
    "                        k: self.sticker_replacement[m[0]][v]\n",
    "                        for k, v in self.sticker_replacement[m[0]].items()\n",
    "                    }\n",
    "                else:\n",
    "                    raise\n",
    "\n",
    "            self.sticker_target[m] = list(self.sticker_replacement[m].keys())\n",
    "            self.sticker_source[m] = list(self.sticker_replacement[m].values())\n",
    "\n",
    "            for i, idx in enumerate(self.sticker_target[m]):\n",
    "                assert self.sticker_replacement[m][idx] == self.sticker_source[m][i]\n",
    "\n",
    "        # For index slicing\n",
    "        self.sticker_target_ix = np.array([np.array(self.sticker_target[m]) for m in self.moves])\n",
    "        self.sticker_source_ix = np.array([np.array(self.sticker_source[m]) for m in self.moves])\n",
    "\n",
    "env = Cube3()"
   ]
  },
  {
   "cell_type": "code",
   "execution_count": 19,
   "metadata": {},
   "outputs": [
    {
     "data": {
      "text/plain": [
       "[0, 3, 6, 11, 14, 17, 24, 25, 26, 27, 28, 29, 45, 46, 47, 48, 50, 51, 52, 53]"
      ]
     },
     "execution_count": 19,
     "metadata": {},
     "output_type": "execute_result"
    }
   ],
   "source": [
    "env.sticker_target['F']"
   ]
  },
  {
   "cell_type": "code",
   "execution_count": 20,
   "metadata": {},
   "outputs": [
    {
     "data": {
      "text/plain": [
       "array([ 0,  1,  2,  3,  4,  5, 44, 41, 38, 15, 12,  9, 16, 13, 10, 17, 14,\n",
       "       11,  6, 19, 20,  7, 22, 23,  8, 25, 26, 27, 28, 29, 30, 31, 32, 33,\n",
       "       34, 35, 36, 37, 45, 39, 40, 46, 42, 43, 47, 24, 21, 18, 48, 49, 50,\n",
       "       51, 52, 53])"
      ]
     },
     "execution_count": 20,
     "metadata": {},
     "output_type": "execute_result"
    }
   ],
   "source": [
    "actions[0]"
   ]
  },
  {
   "cell_type": "code",
   "execution_count": 82,
   "metadata": {},
   "outputs": [
    {
     "data": {
      "text/plain": [
       "array([0, 0, 0, 0, 0, 0, 0, 0, 0, 1, 1, 1, 1, 1, 1, 1, 1, 1, 2, 2, 5, 2,\n",
       "       2, 5, 2, 2, 5, 3, 3, 4, 3, 3, 4, 3, 3, 4, 4, 4, 2, 4, 4, 2, 4, 4,\n",
       "       2, 5, 5, 3, 5, 5, 3, 5, 5, 3])"
      ]
     },
     "execution_count": 82,
     "metadata": {},
     "output_type": "execute_result"
    }
   ],
   "source": [
    "env.reset()\n",
    "# env.finger(\"U\")\n",
    "env.finger_ix(0)\n",
    "env.state"
   ]
  },
  {
   "cell_type": "code",
   "execution_count": 83,
   "metadata": {},
   "outputs": [
    {
     "data": {
      "text/plain": [
       "array([0, 0, 0, 0, 0, 0, 0, 0, 0, 1, 1, 1, 1, 1, 1, 1, 1, 1, 2, 2, 5, 2,\n",
       "       2, 5, 2, 2, 5, 3, 3, 4, 3, 3, 4, 3, 3, 4, 4, 4, 2, 4, 4, 2, 4, 4,\n",
       "       2, 5, 5, 3, 5, 5, 3, 5, 5, 3], dtype=int32)"
      ]
     },
     "execution_count": 83,
     "metadata": {},
     "output_type": "execute_result"
    }
   ],
   "source": [
    "u0 = np.array([sticker_replacement['U'].get(i, i) for i in range(0, 54)])\n",
    "# f0_i = np.array(inverse_permutation(f0))\n",
    "(np.arange(0, 54)[u0] / 9).astype(np.int32)"
   ]
  },
  {
   "cell_type": "code",
   "execution_count": 93,
   "metadata": {},
   "outputs": [],
   "source": [
    "direct_actions = { k : np.array([sticker_replacement[k].get(i, i)  for i in range(0, 54)]) for k in sticker_replacement.keys() }\n",
    "reverse_actions = { f\"{k}'\": np.array(inverse_permutation(v)) for k, v in direct_actions.items() }"
   ]
  },
  {
   "cell_type": "code",
   "execution_count": 103,
   "metadata": {},
   "outputs": [
    {
     "name": "stdout",
     "output_type": "stream",
     "text": [
      "{'actions': [array([ 6,  3,  0,  7,  4,  1,  8,  5,  2,  9, 10, 11, 12, 13, 14, 15, 16,\n",
      "       17, 18, 19, 47, 21, 22, 50, 24, 25, 53, 27, 28, 38, 30, 31, 41, 33,\n",
      "       34, 44, 36, 37, 20, 39, 40, 23, 42, 43, 26, 45, 46, 29, 48, 49, 32,\n",
      "       51, 52, 35]), array([ 0,  1,  2,  3,  4,  5,  6,  7,  8, 15, 12,  9, 16, 13, 10, 17, 14,\n",
      "       11, 36, 19, 20, 39, 22, 23, 42, 25, 26, 45, 28, 29, 48, 31, 32, 51,\n",
      "       34, 35, 27, 37, 38, 30, 40, 41, 33, 43, 44, 18, 46, 47, 21, 49, 50,\n",
      "       24, 52, 53]), array([44, 43, 42,  3,  4,  5,  6,  7,  8, 45, 46, 47, 12, 13, 14, 15, 16,\n",
      "       17, 24, 21, 18, 25, 22, 19, 26, 23, 20, 27, 28, 29, 30, 31, 32, 33,\n",
      "       34, 35, 36, 37, 38, 39, 40, 41, 11, 10,  9,  0,  1,  2, 48, 49, 50,\n",
      "       51, 52, 53]), array([ 0,  1,  2,  3,  4,  5, 51, 52, 53,  9, 10, 11, 12, 13, 14, 38, 37,\n",
      "       36, 18, 19, 20, 21, 22, 23, 24, 25, 26, 33, 30, 27, 34, 31, 28, 35,\n",
      "       32, 29,  8,  7,  6, 39, 40, 41, 42, 43, 44, 45, 46, 47, 48, 49, 50,\n",
      "       15, 16, 17]), array([ 0,  1, 35,  3,  4, 34,  6,  7, 33, 20, 10, 11, 19, 13, 14, 18, 16,\n",
      "       17,  2,  5,  8, 21, 22, 23, 24, 25, 26, 27, 28, 29, 30, 31, 32,  9,\n",
      "       12, 15, 42, 39, 36, 43, 40, 37, 44, 41, 38, 45, 46, 47, 48, 49, 50,\n",
      "       51, 52, 53]), array([24,  1,  2, 25,  4,  5, 26,  7,  8,  9, 10, 27, 12, 13, 28, 15, 16,\n",
      "       29, 18, 19, 20, 21, 22, 23, 17, 14, 11,  6,  3,  0, 30, 31, 32, 33,\n",
      "       34, 35, 36, 37, 38, 39, 40, 41, 42, 43, 44, 51, 48, 45, 52, 49, 46,\n",
      "       53, 50, 47]), array([ 2,  5,  8,  1,  4,  7,  0,  3,  6,  9, 10, 11, 12, 13, 14, 15, 16,\n",
      "       17, 18, 19, 38, 21, 22, 41, 24, 25, 44, 27, 28, 47, 30, 31, 50, 33,\n",
      "       34, 53, 36, 37, 29, 39, 40, 32, 42, 43, 35, 45, 46, 20, 48, 49, 23,\n",
      "       51, 52, 26]), array([ 0,  1,  2,  3,  4,  5,  6,  7,  8, 11, 14, 17, 10, 13, 16,  9, 12,\n",
      "       15, 45, 19, 20, 48, 22, 23, 51, 25, 26, 36, 28, 29, 39, 31, 32, 42,\n",
      "       34, 35, 18, 37, 38, 21, 40, 41, 24, 43, 44, 27, 46, 47, 30, 49, 50,\n",
      "       33, 52, 53]), array([45, 46, 47,  3,  4,  5,  6,  7,  8, 44, 43, 42, 12, 13, 14, 15, 16,\n",
      "       17, 20, 23, 26, 19, 22, 25, 18, 21, 24, 27, 28, 29, 30, 31, 32, 33,\n",
      "       34, 35, 36, 37, 38, 39, 40, 41,  2,  1,  0,  9, 10, 11, 48, 49, 50,\n",
      "       51, 52, 53]), array([ 0,  1,  2,  3,  4,  5, 38, 37, 36,  9, 10, 11, 12, 13, 14, 51, 52,\n",
      "       53, 18, 19, 20, 21, 22, 23, 24, 25, 26, 29, 32, 35, 28, 31, 34, 27,\n",
      "       30, 33, 17, 16, 15, 39, 40, 41, 42, 43, 44, 45, 46, 47, 48, 49, 50,\n",
      "        6,  7,  8]), array([ 0,  1, 18,  3,  4, 19,  6,  7, 20, 33, 10, 11, 34, 13, 14, 35, 16,\n",
      "       17, 15, 12,  9, 21, 22, 23, 24, 25, 26, 27, 28, 29, 30, 31, 32,  8,\n",
      "        5,  2, 38, 41, 44, 37, 40, 43, 36, 39, 42, 45, 46, 47, 48, 49, 50,\n",
      "       51, 52, 53]), array([29,  1,  2, 28,  4,  5, 27,  7,  8,  9, 10, 26, 12, 13, 25, 15, 16,\n",
      "       24, 18, 19, 20, 21, 22, 23,  0,  3,  6, 11, 14, 17, 30, 31, 32, 33,\n",
      "       34, 35, 36, 37, 38, 39, 40, 41, 42, 43, 44, 47, 50, 53, 46, 49, 52,\n",
      "       45, 48, 51])], 'names': ['U', 'D', 'L', 'R', 'B', 'F', \"U'\", \"D'\", \"L'\", \"R'\", \"B'\", \"F'\"]}\n"
     ]
    }
   ],
   "source": [
    "d_keys = list(direct_actions.keys())\n",
    "r_keys = list(reverse_actions.keys())\n",
    "\n",
    "d_actions = [direct_actions[k] for k in d_keys]\n",
    "r_actions = [reverse_actions[k] for k in r_keys]\n",
    "\n",
    "all_keys = d_keys + r_keys\n",
    "all_actions = d_actions + r_actions\n",
    "\n",
    "qtm_cube3 = {\n",
    "    \"actions\": all_actions,\n",
    "    \"names\": all_keys\n",
    "}\n",
    "print(qtm_cube3)"
   ]
  },
  {
   "cell_type": "code",
   "execution_count": 104,
   "metadata": {},
   "outputs": [],
   "source": [
    "with open(\"/Users/euclid/Projects/DeepDeepCube/assets/envs/qtm_cube3.pickle\", \"wb\") as f:\n",
    "    pickle.dump(qtm_cube3, f)"
   ]
  },
  {
   "cell_type": "code",
   "execution_count": 95,
   "metadata": {},
   "outputs": [
    {
     "data": {
      "text/plain": [
       "dict_keys([\"U'\", \"D'\", \"L'\", \"R'\", \"B'\", \"F'\"])"
      ]
     },
     "execution_count": 95,
     "metadata": {},
     "output_type": "execute_result"
    }
   ],
   "source": [
    "reverse_actions.keys()"
   ]
  },
  {
   "cell_type": "code",
   "execution_count": 105,
   "metadata": {},
   "outputs": [],
   "source": [
    "with open(\"/Users/euclid/Projects/DeepDeepCube/assets/tests/deepcube/data_0.pkl\", \"rb\") as f:\n",
    "    data_0 = pickle.load(f)"
   ]
  },
  {
   "cell_type": "code",
   "execution_count": 110,
   "metadata": {},
   "outputs": [],
   "source": [
    "qtm_cube3_map = { name:qtm_cube3['actions'][i] for i, name in enumerate(qtm_cube3['names'])}"
   ]
  },
  {
   "cell_type": "code",
   "execution_count": 111,
   "metadata": {},
   "outputs": [
    {
     "data": {
      "text/plain": [
       "{'U': array([ 6,  3,  0,  7,  4,  1,  8,  5,  2,  9, 10, 11, 12, 13, 14, 15, 16,\n",
       "        17, 18, 19, 47, 21, 22, 50, 24, 25, 53, 27, 28, 38, 30, 31, 41, 33,\n",
       "        34, 44, 36, 37, 20, 39, 40, 23, 42, 43, 26, 45, 46, 29, 48, 49, 32,\n",
       "        51, 52, 35]),\n",
       " 'D': array([ 0,  1,  2,  3,  4,  5,  6,  7,  8, 15, 12,  9, 16, 13, 10, 17, 14,\n",
       "        11, 36, 19, 20, 39, 22, 23, 42, 25, 26, 45, 28, 29, 48, 31, 32, 51,\n",
       "        34, 35, 27, 37, 38, 30, 40, 41, 33, 43, 44, 18, 46, 47, 21, 49, 50,\n",
       "        24, 52, 53]),\n",
       " 'L': array([44, 43, 42,  3,  4,  5,  6,  7,  8, 45, 46, 47, 12, 13, 14, 15, 16,\n",
       "        17, 24, 21, 18, 25, 22, 19, 26, 23, 20, 27, 28, 29, 30, 31, 32, 33,\n",
       "        34, 35, 36, 37, 38, 39, 40, 41, 11, 10,  9,  0,  1,  2, 48, 49, 50,\n",
       "        51, 52, 53]),\n",
       " 'R': array([ 0,  1,  2,  3,  4,  5, 51, 52, 53,  9, 10, 11, 12, 13, 14, 38, 37,\n",
       "        36, 18, 19, 20, 21, 22, 23, 24, 25, 26, 33, 30, 27, 34, 31, 28, 35,\n",
       "        32, 29,  8,  7,  6, 39, 40, 41, 42, 43, 44, 45, 46, 47, 48, 49, 50,\n",
       "        15, 16, 17]),\n",
       " 'B': array([ 0,  1, 35,  3,  4, 34,  6,  7, 33, 20, 10, 11, 19, 13, 14, 18, 16,\n",
       "        17,  2,  5,  8, 21, 22, 23, 24, 25, 26, 27, 28, 29, 30, 31, 32,  9,\n",
       "        12, 15, 42, 39, 36, 43, 40, 37, 44, 41, 38, 45, 46, 47, 48, 49, 50,\n",
       "        51, 52, 53]),\n",
       " 'F': array([24,  1,  2, 25,  4,  5, 26,  7,  8,  9, 10, 27, 12, 13, 28, 15, 16,\n",
       "        29, 18, 19, 20, 21, 22, 23, 17, 14, 11,  6,  3,  0, 30, 31, 32, 33,\n",
       "        34, 35, 36, 37, 38, 39, 40, 41, 42, 43, 44, 51, 48, 45, 52, 49, 46,\n",
       "        53, 50, 47]),\n",
       " \"U'\": array([ 2,  5,  8,  1,  4,  7,  0,  3,  6,  9, 10, 11, 12, 13, 14, 15, 16,\n",
       "        17, 18, 19, 38, 21, 22, 41, 24, 25, 44, 27, 28, 47, 30, 31, 50, 33,\n",
       "        34, 53, 36, 37, 29, 39, 40, 32, 42, 43, 35, 45, 46, 20, 48, 49, 23,\n",
       "        51, 52, 26]),\n",
       " \"D'\": array([ 0,  1,  2,  3,  4,  5,  6,  7,  8, 11, 14, 17, 10, 13, 16,  9, 12,\n",
       "        15, 45, 19, 20, 48, 22, 23, 51, 25, 26, 36, 28, 29, 39, 31, 32, 42,\n",
       "        34, 35, 18, 37, 38, 21, 40, 41, 24, 43, 44, 27, 46, 47, 30, 49, 50,\n",
       "        33, 52, 53]),\n",
       " \"L'\": array([45, 46, 47,  3,  4,  5,  6,  7,  8, 44, 43, 42, 12, 13, 14, 15, 16,\n",
       "        17, 20, 23, 26, 19, 22, 25, 18, 21, 24, 27, 28, 29, 30, 31, 32, 33,\n",
       "        34, 35, 36, 37, 38, 39, 40, 41,  2,  1,  0,  9, 10, 11, 48, 49, 50,\n",
       "        51, 52, 53]),\n",
       " \"R'\": array([ 0,  1,  2,  3,  4,  5, 38, 37, 36,  9, 10, 11, 12, 13, 14, 51, 52,\n",
       "        53, 18, 19, 20, 21, 22, 23, 24, 25, 26, 29, 32, 35, 28, 31, 34, 27,\n",
       "        30, 33, 17, 16, 15, 39, 40, 41, 42, 43, 44, 45, 46, 47, 48, 49, 50,\n",
       "         6,  7,  8]),\n",
       " \"B'\": array([ 0,  1, 18,  3,  4, 19,  6,  7, 20, 33, 10, 11, 34, 13, 14, 35, 16,\n",
       "        17, 15, 12,  9, 21, 22, 23, 24, 25, 26, 27, 28, 29, 30, 31, 32,  8,\n",
       "         5,  2, 38, 41, 44, 37, 40, 43, 36, 39, 42, 45, 46, 47, 48, 49, 50,\n",
       "        51, 52, 53]),\n",
       " \"F'\": array([29,  1,  2, 28,  4,  5, 27,  7,  8,  9, 10, 26, 12, 13, 25, 15, 16,\n",
       "        24, 18, 19, 20, 21, 22, 23,  0,  3,  6, 11, 14, 17, 30, 31, 32, 33,\n",
       "        34, 35, 36, 37, 38, 39, 40, 41, 42, 43, 44, 47, 50, 53, 46, 49, 52,\n",
       "        45, 48, 51])}"
      ]
     },
     "execution_count": 111,
     "metadata": {},
     "output_type": "execute_result"
    }
   ],
   "source": [
    "qtm_cube3_map"
   ]
  },
  {
   "cell_type": "code",
   "execution_count": 123,
   "metadata": {},
   "outputs": [
    {
     "name": "stdout",
     "output_type": "stream",
     "text": [
      "[ 0  1  2  3  4  5  6  7  8  9 10 11 12 13 14 15 16 17 18 19 20 21 22 23\n",
      " 24 25 26 27 28 29 30 31 32 33 34 35 36 37 38 39 40 41 42 43 44 45 46 47\n",
      " 48 49 50 51 52 53]\n"
     ]
    }
   ],
   "source": [
    "j = 2\n",
    "state = np.array(data_0['states'][j])\n",
    "solution = data_0['solutions'][j]\n",
    "\n",
    "\n",
    "for s in solution:\n",
    "    action = s[0]\n",
    "    if s[1] == -1:\n",
    "        action += \"'\"\n",
    "    state = state[qtm_cube3_map[action]]\n",
    "\n",
    "print(state)"
   ]
  },
  {
   "cell_type": "code",
   "execution_count": 116,
   "metadata": {},
   "outputs": [
    {
     "data": {
      "text/plain": [
       "dtype('int64')"
      ]
     },
     "execution_count": 116,
     "metadata": {},
     "output_type": "execute_result"
    }
   ],
   "source": [
    "qtm_cube3_map[action].dtype"
   ]
  },
  {
   "cell_type": "code",
   "execution_count": null,
   "metadata": {},
   "outputs": [],
   "source": []
  }
 ],
 "metadata": {
  "kernelspec": {
   "display_name": "py11",
   "language": "python",
   "name": "python3"
  },
  "language_info": {
   "codemirror_mode": {
    "name": "ipython",
    "version": 3
   },
   "file_extension": ".py",
   "mimetype": "text/x-python",
   "name": "python",
   "nbconvert_exporter": "python",
   "pygments_lexer": "ipython3",
   "version": "3.11.7"
  }
 },
 "nbformat": 4,
 "nbformat_minor": 2
}
